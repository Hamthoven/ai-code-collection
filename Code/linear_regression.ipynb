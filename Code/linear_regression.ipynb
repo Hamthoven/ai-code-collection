{
 "cells": [
  {
   "cell_type": "markdown",
   "metadata": {},
   "source": [
    "# 선형 회귀 (Linear Regression)\n",
    "## 1. 개요\n",
    "\n",
    "- 구현 내용: 선형으로 분포한 데이터를 예측하는 선형 회귀를 구현합니다.\n",
    "- 코드 요약: pandas로 csv 파일을 읽어들인 뒤 sklearn의 선형 회귀 라이브러리를 활용해 선형 회귀를 구현합니다. 각각 따로 구분해두었습니다.\n",
    "- 참고 자료: 학교 수업 참고자료 (서울여자대학교)\n",
    "- 데이터 셋: 이 코드에 사용된 csv 파일은 키와 몸무게 정보를 가지고 있습니다. 선형회귀와 관련된 데이터가 없는 경우 공공데이터포털에서 교육부의 '학생건강검사 표본조사 rawdata'를 활용하시면 무료로 획득할 수 있습니다.\n",
    "- 기타 사항: csv 파일은 레포지토리에서 제공하지 않으며 '데이터 셋'에 기재된 데이터를 획득한 후 전처리하시는 방법을 통해 가장 최신의 데이터로 실습할 수 있습니다."
   ]
  },
  {
   "cell_type": "markdown",
   "metadata": {},
   "source": [
    "## 2. 코드"
   ]
  },
  {
   "cell_type": "markdown",
   "metadata": {},
   "source": [
    "### (1) sklearn.linear_model.LinearRegression 활용\n",
    "[sklearn.linear_model.LinearRegression 문서 링크](https://scikit-learn.org/stable/modules/generated/sklearn.linear_model.LinearRegression.html)"
   ]
  },
  {
   "cell_type": "code",
   "execution_count": 1,
   "metadata": {},
   "outputs": [],
   "source": [
    "# 데이터 처리 라이브러리 import\n",
    "import pandas as pd\n",
    "import numpy as np\n",
    "import matplotlib.pyplot as plt"
   ]
  },
  {
   "cell_type": "code",
   "execution_count": 2,
   "metadata": {},
   "outputs": [
    {
     "data": {
      "text/html": [
       "<div>\n",
       "<style scoped>\n",
       "    .dataframe tbody tr th:only-of-type {\n",
       "        vertical-align: middle;\n",
       "    }\n",
       "\n",
       "    .dataframe tbody tr th {\n",
       "        vertical-align: top;\n",
       "    }\n",
       "\n",
       "    .dataframe thead th {\n",
       "        text-align: right;\n",
       "    }\n",
       "</style>\n",
       "<table border=\"1\" class=\"dataframe\">\n",
       "  <thead>\n",
       "    <tr style=\"text-align: right;\">\n",
       "      <th></th>\n",
       "      <th>height</th>\n",
       "      <th>weight</th>\n",
       "    </tr>\n",
       "  </thead>\n",
       "  <tbody>\n",
       "    <tr>\n",
       "      <th>1</th>\n",
       "      <td>158.9</td>\n",
       "      <td>52.015</td>\n",
       "    </tr>\n",
       "    <tr>\n",
       "      <th>2</th>\n",
       "      <td>173.6</td>\n",
       "      <td>66.910</td>\n",
       "    </tr>\n",
       "    <tr>\n",
       "      <th>3</th>\n",
       "      <td>174.4</td>\n",
       "      <td>66.000</td>\n",
       "    </tr>\n",
       "    <tr>\n",
       "      <th>4</th>\n",
       "      <td>154.0</td>\n",
       "      <td>49.275</td>\n",
       "    </tr>\n",
       "    <tr>\n",
       "      <th>5</th>\n",
       "      <td>177.7</td>\n",
       "      <td>69.820</td>\n",
       "    </tr>\n",
       "    <tr>\n",
       "      <th>6</th>\n",
       "      <td>188.3</td>\n",
       "      <td>79.479</td>\n",
       "    </tr>\n",
       "    <tr>\n",
       "      <th>7</th>\n",
       "      <td>183.4</td>\n",
       "      <td>75.685</td>\n",
       "    </tr>\n",
       "    <tr>\n",
       "      <th>8</th>\n",
       "      <td>168.7</td>\n",
       "      <td>61.569</td>\n",
       "    </tr>\n",
       "    <tr>\n",
       "      <th>9</th>\n",
       "      <td>185.1</td>\n",
       "      <td>76.346</td>\n",
       "    </tr>\n",
       "    <tr>\n",
       "      <th>10</th>\n",
       "      <td>156.5</td>\n",
       "      <td>51.694</td>\n",
       "    </tr>\n",
       "  </tbody>\n",
       "</table>\n",
       "</div>"
      ],
      "text/plain": [
       "    height  weight\n",
       "1    158.9  52.015\n",
       "2    173.6  66.910\n",
       "3    174.4  66.000\n",
       "4    154.0  49.275\n",
       "5    177.7  69.820\n",
       "6    188.3  79.479\n",
       "7    183.4  75.685\n",
       "8    168.7  61.569\n",
       "9    185.1  76.346\n",
       "10   156.5  51.694"
      ]
     },
     "execution_count": 2,
     "metadata": {},
     "output_type": "execute_result"
    }
   ],
   "source": [
    "# 데이터 형태와 일부 값 확인\n",
    "df = pd.read_csv(\"hw_info.csv\", encoding = 'cp949', index_col = 0)\n",
    "df.head(10)"
   ]
  },
  {
   "cell_type": "code",
   "execution_count": 3,
   "metadata": {},
   "outputs": [],
   "source": [
    "# 예측에 사용할 X와 y. 내가 가진 값 X에 대한 예측 값 y를 구하는 형태로 사용. \n",
    "X = np.array(df['height'])\n",
    "y = np.array(df['weight'])"
   ]
  },
  {
   "cell_type": "code",
   "execution_count": 4,
   "metadata": {},
   "outputs": [
    {
     "data": {
      "image/png": "[encoded data removed]",
      "text/plain": [
       "<Figure size 432x288 with 1 Axes>"
      ]
     },
     "metadata": {
      "needs_background": "light"
     },
     "output_type": "display_data"
    }
   ],
   "source": [
    "# 전체 데이터 시각화\n",
    "plt.plot(X, y, 'b.')\n",
    "plt.xlabel(\"$x_1$\", fontsize=12)\n",
    "plt.ylabel(\"$y$\", rotation=0, fontsize=12)\n",
    "plt.axis([147,193,42,83])\n",
    "plt.show() "
   ]
  },
  {
   "cell_type": "code",
   "execution_count": 5,
   "metadata": {},
   "outputs": [],
   "source": [
    "# 선형 회귀 라이브러리 import 및 생성\n",
    "from sklearn.linear_model import LinearRegression\n",
    "\n",
    "lin_reg = LinearRegression()"
   ]
  },
  {
   "cell_type": "code",
   "execution_count": 6,
   "metadata": {},
   "outputs": [
    {
     "data": {
      "text/plain": [
       "(-89.97771698122781, array([0.89962835]))"
      ]
     },
     "execution_count": 6,
     "metadata": {},
     "output_type": "execute_result"
    }
   ],
   "source": [
    "# 데이터 변형. reshape의 -1은 알아서 채우기 처리.\n",
    "lin_reg.fit(X.reshape(-1,1),y)\n",
    "# 절편과 기울기 출력\n",
    "lin_reg.intercept_, lin_reg.coef_ "
   ]
  },
  {
   "cell_type": "code",
   "execution_count": 7,
   "metadata": {},
   "outputs": [
    {
     "data": {
      "text/plain": [
       "array([53.96281868])"
      ]
     },
     "execution_count": 7,
     "metadata": {},
     "output_type": "execute_result"
    }
   ],
   "source": [
    "#키 160cm(X)인 사람의 예측 몸무게(y)\n",
    "lin_reg.predict([[160]])"
   ]
  },
  {
   "cell_type": "code",
   "execution_count": 8,
   "metadata": {},
   "outputs": [
    {
     "data": {
      "image/png": "[encoded data removed]",
      "text/plain": [
       "<Figure size 432x288 with 1 Axes>"
      ]
     },
     "metadata": {
      "needs_background": "light"
     },
     "output_type": "display_data"
    }
   ],
   "source": [
    "# 예측 결과와 학습 데이터 시각화\n",
    "X_test = ([[145], [195]])\n",
    "y_test = lin_reg.predict(X_test)\n",
    "\n",
    "plt.plot(X_test, y_test, \"r-\", linewidth=2, label=\"Predictions\")\n",
    "plt.plot(X, y, \"b.\")\n",
    "plt.xlabel(\"$x_1$\", fontsize=12)\n",
    "plt.ylabel(\"$y$\", rotation=0, fontsize=12)\n",
    "plt.legend(loc=\"upper left\", fontsize=10)\n",
    "plt.axis([147,193,42,83])\n",
    "plt.show()"
   ]
  }
 ],
 "metadata": {
  "kernelspec": {
   "display_name": "Python 3",
   "language": "python",
   "name": "python3"
  },
  "language_info": {
   "codemirror_mode": {
    "name": "ipython",
    "version": 3
   },
   "file_extension": ".py",
   "mimetype": "text/x-python",
   "name": "python",
   "nbconvert_exporter": "python",
   "pygments_lexer": "ipython3",
   "version": "3.8.8"
  }
 },
 "nbformat": 4,
 "nbformat_minor": 2
}
